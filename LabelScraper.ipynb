{
 "cells": [
  {
   "cell_type": "code",
   "execution_count": 1,
   "metadata": {
    "collapsed": true
   },
   "outputs": [],
   "source": [
    "import requests\n",
    "import csv\n",
    "import time\n",
    "import sys\n",
    "from bs4 import BeautifulSoup"
   ]
  },
  {
   "cell_type": "code",
   "execution_count": 2,
   "metadata": {
    "collapsed": false
   },
   "outputs": [],
   "source": [
    "def GetLabels(url, csvout):\n",
    "    r = requests.get(url)    \n",
    "    soup = BeautifulSoup(r.content)\n",
    "\n",
    "    for i in soup.find_all('img'):\n",
    "        imgName = i.get('title')\n",
    "        if imgName:\n",
    "            row = [imgName + '.jpg', url]\n",
    "            csvout.writerow(row)"
   ]
  },
  {
   "cell_type": "code",
   "execution_count": 3,
   "metadata": {
    "collapsed": false
   },
   "outputs": [
    {
     "name": "stdout",
     "output_type": "stream",
     "text": [
      "0\n",
      "15\n",
      "30\n",
      "45\n",
      "60\n",
      "75\n",
      "90\n",
      "105\n",
      "120\n",
      "135\n",
      "150\n",
      "165\n",
      "180\n",
      "195\n",
      "210\n",
      "225\n",
      "240\n",
      "255\n",
      "270\n",
      "285\n",
      "300\n",
      "315\n",
      "330\n",
      "345\n",
      "360\n",
      "375\n",
      "390\n",
      "405\n",
      "420\n",
      "435\n",
      "450\n",
      "465\n",
      "480\n",
      "495\n",
      "510\n",
      "525\n",
      "540\n",
      "555\n",
      "570\n",
      "585\n",
      "600\n",
      "615\n",
      "630\n",
      "645\n",
      "660\n",
      "675\n",
      "690\n",
      "705\n",
      "720\n",
      "735\n",
      "750\n",
      "765\n",
      "780\n",
      "795\n",
      "810\n",
      "825\n",
      "840\n",
      "855\n",
      "870\n",
      "885\n",
      "900\n",
      "915\n",
      "930\n",
      "945\n",
      "960\n",
      "975\n",
      "990\n",
      "1005\n",
      "1020\n",
      "1035\n",
      "1050\n",
      "1065\n",
      "1080\n",
      "1095\n"
     ]
    }
   ],
   "source": [
    "with open(\"bird_labels.csv\", 'wb') as csvout:\n",
    "    csvout = csv.writer(csvout)\n",
    "    header = ['image','page']\n",
    "    csvout.writerow(header)\n",
    "    \n",
    "    for i in range(0,1100,15):\n",
    "        #time.sleep(5)\n",
    "        print i\n",
    "        \n",
    "        if i == 0:\n",
    "            url = 'main'\n",
    "        else:\n",
    "            url = 'main/start-'+str(i)\n",
    "        try:\n",
    "            GetLabels(url, csvout)\n",
    "        except:\n",
    "            print i\n",
    "            print sys.exc_info()"
   ]
  },
  {
   "cell_type": "code",
   "execution_count": null,
   "metadata": {
    "collapsed": true
   },
   "outputs": [],
   "source": []
  }
 ],
 "metadata": {
  "kernelspec": {
   "display_name": "Python 2",
   "language": "python",
   "name": "python2"
  },
  "language_info": {
   "codemirror_mode": {
    "name": "ipython",
    "version": 2
   },
   "file_extension": ".py",
   "mimetype": "text/x-python",
   "name": "python",
   "nbconvert_exporter": "python",
   "pygments_lexer": "ipython2",
   "version": "2.7.8"
  }
 },
 "nbformat": 4,
 "nbformat_minor": 0
}
