{
 "cells": [
  {
   "cell_type": "code",
   "execution_count": 23,
   "metadata": {
    "collapsed": true
   },
   "outputs": [],
   "source": [
    "import requests\n",
    "import csv\n",
    "import time\n",
    "import sys\n",
    "from bs4 import BeautifulSoup"
   ]
  },
  {
   "cell_type": "code",
   "execution_count": 28,
   "metadata": {
    "collapsed": false
   },
   "outputs": [],
   "source": [
    "def GetLabels(url, csvout):\n",
    "    r = requests.get(url)\n",
    "    print r.status_code\n",
    "    \n",
    "    soup = BeautifulSoup(r.content)\n",
    "\n",
    "    for i in soup.find_all('img'):\n",
    "        digits = [x for x in i['src'] if x.isdigit()]\n",
    "        if len(digits) > 0:\n",
    "            row = [''.join([x for x in digits]) + '.jpg', url]\n",
    "            csvout.writerow(row)"
   ]
  },
  {
   "cell_type": "code",
   "execution_count": 29,
   "metadata": {
    "collapsed": false
   },
   "outputs": [
    {
     "name": "stdout",
     "output_type": "stream",
     "text": [
      "0\n",
      "200\n",
      "15\n",
      "200\n",
      "30\n",
      "200\n",
      "45\n",
      "200\n",
      "60\n",
      "200\n",
      "75\n",
      "200\n",
      "90\n",
      "200\n",
      "105\n",
      "200\n",
      "120\n",
      "200\n",
      "135\n",
      "200\n",
      "150\n",
      "200\n"
     ]
    }
   ],
   "source": [
    "with open(\"park_labels.csv\", 'wb') as csvout:\n",
    "    csvout = csv.writer(csvout)\n",
    "    header = ['image','page']\n",
    "    csvout.writerow(header)\n",
    "    \n",
    "    for i in range(0,165,15):\n",
    "        time.sleep(5)\n",
    "        print i\n",
    "        \n",
    "        if i == 0:\n",
    "            url = 'main'\n",
    "        else:\n",
    "            url = 'main/start-'+str(i)\n",
    "        try:\n",
    "            GetLabels(url, csvout)\n",
    "        except:\n",
    "            print i\n",
    "            print sys.exc_info()"
   ]
  },
  {
   "cell_type": "code",
   "execution_count": null,
   "metadata": {
    "collapsed": true
   },
   "outputs": [],
   "source": []
  }
 ],
 "metadata": {
  "kernelspec": {
   "display_name": "Python 2",
   "language": "python",
   "name": "python2"
  },
  "language_info": {
   "codemirror_mode": {
    "name": "ipython",
    "version": 2
   },
   "file_extension": ".py",
   "mimetype": "text/x-python",
   "name": "python",
   "nbconvert_exporter": "python",
   "pygments_lexer": "ipython2",
   "version": "2.7.8"
  }
 },
 "nbformat": 4,
 "nbformat_minor": 0
}
